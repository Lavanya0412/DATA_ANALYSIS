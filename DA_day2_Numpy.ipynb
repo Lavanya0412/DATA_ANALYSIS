{
  "nbformat": 4,
  "nbformat_minor": 0,
  "metadata": {
    "colab": {
      "provenance": []
    },
    "kernelspec": {
      "name": "python3",
      "display_name": "Python 3"
    },
    "language_info": {
      "name": "python"
    }
  },
  "cells": [
    {
      "cell_type": "code",
      "execution_count": null,
      "metadata": {
        "colab": {
          "base_uri": "https://localhost:8080/"
        },
        "id": "RR0cCUcarMAT",
        "outputId": "66cbcdfd-1ef0-43e3-b7d4-903d4e4baad1"
      },
      "outputs": [
        {
          "output_type": "stream",
          "name": "stdout",
          "text": [
            "[[1. 1. 1. 1.]\n",
            " [1. 1. 1. 1.]\n",
            " [1. 1. 1. 1.]\n",
            " [1. 1. 1. 1.]\n",
            " [1. 1. 1. 1.]\n",
            " [1. 1. 1. 1.]\n",
            " [1. 1. 1. 1.]\n",
            " [1. 1. 1. 1.]]\n"
          ]
        }
      ],
      "source": [
        "import numpy as np\n",
        "a=np.ones((8,4))\n",
        "print(a)"
      ]
    },
    {
      "cell_type": "code",
      "source": [
        "b=np.arange(2,52,2)\n",
        "print(b)"
      ],
      "metadata": {
        "colab": {
          "base_uri": "https://localhost:8080/"
        },
        "id": "Sgdq6F8usZCT",
        "outputId": "de29cb63-2494-4fa8-88a6-c6e8fdbfb3cd"
      },
      "execution_count": null,
      "outputs": [
        {
          "output_type": "stream",
          "name": "stdout",
          "text": [
            "[ 2  4  6  8 10 12 14 16 18 20 22 24 26 28 30 32 34 36 38 40 42 44 46 48\n",
            " 50]\n"
          ]
        }
      ]
    },
    {
      "cell_type": "code",
      "source": [
        "#random ---->sub-package of numpy\n",
        "A=np.random.rand(8,4)# Rand-range is between 0 and 1\n",
        "print(A)"
      ],
      "metadata": {
        "colab": {
          "base_uri": "https://localhost:8080/"
        },
        "id": "frlJmCndtNbg",
        "outputId": "858f11bb-5643-4c45-f574-10f6d4489678"
      },
      "execution_count": null,
      "outputs": [
        {
          "output_type": "stream",
          "name": "stdout",
          "text": [
            "[[0.93887229 0.23607184 0.8060085  0.40317633]\n",
            " [0.80129839 0.14565964 0.47868341 0.03808412]\n",
            " [0.34902355 0.91868166 0.7166051  0.86644585]\n",
            " [0.19432883 0.83892177 0.15450707 0.07922433]\n",
            " [0.85571647 0.07677038 0.59370158 0.93574612]\n",
            " [0.23369121 0.57438629 0.74814598 0.23420273]\n",
            " [0.22697672 0.14786639 0.63446804 0.08928917]\n",
            " [0.79606208 0.71524536 0.73940375 0.84751614]]\n"
          ]
        }
      ]
    },
    {
      "cell_type": "code",
      "source": [
        "B=10*np.random.rand(4,2)\n",
        "print(B)"
      ],
      "metadata": {
        "colab": {
          "base_uri": "https://localhost:8080/"
        },
        "id": "bOlqwq9stdFm",
        "outputId": "ca88b158-874c-40ce-d862-4d60ef3b7fd3"
      },
      "execution_count": null,
      "outputs": [
        {
          "output_type": "stream",
          "name": "stdout",
          "text": [
            "[[3.97616804 4.01650212]\n",
            " [5.89536189 5.13010869]\n",
            " [8.47856274 0.73672966]\n",
            " [5.92512628 4.50044426]]\n"
          ]
        }
      ]
    },
    {
      "cell_type": "code",
      "source": [
        "C=np.floor(10*np.random.rand(8,4))\n",
        "print(C)"
      ],
      "metadata": {
        "colab": {
          "base_uri": "https://localhost:8080/"
        },
        "id": "MOxK9aLCvlAM",
        "outputId": "63e50f1f-41ee-4e04-fd9a-9b60ae8c3cad"
      },
      "execution_count": null,
      "outputs": [
        {
          "output_type": "stream",
          "name": "stdout",
          "text": [
            "[[5. 4. 5. 1.]\n",
            " [9. 8. 5. 5.]\n",
            " [5. 0. 1. 5.]\n",
            " [4. 9. 1. 1.]\n",
            " [0. 9. 0. 4.]\n",
            " [6. 4. 6. 6.]\n",
            " [3. 1. 4. 0.]\n",
            " [6. 7. 0. 8.]]\n"
          ]
        }
      ]
    },
    {
      "cell_type": "code",
      "source": [
        "#split it after 2 row and 5 row\n",
        "print(np.vsplit(C,(2,5)))"
      ],
      "metadata": {
        "colab": {
          "base_uri": "https://localhost:8080/"
        },
        "id": "C32J5fqTwkov",
        "outputId": "66bc2f1b-7786-4e4c-b60d-9191ec744a18"
      },
      "execution_count": null,
      "outputs": [
        {
          "output_type": "stream",
          "name": "stdout",
          "text": [
            "[array([[5., 4., 5., 1.],\n",
            "       [9., 8., 5., 5.]]), array([[5., 0., 1., 5.],\n",
            "       [4., 9., 1., 1.],\n",
            "       [0., 9., 0., 4.]]), array([[6., 4., 6., 6.],\n",
            "       [3., 1., 4., 0.],\n",
            "       [6., 7., 0., 8.]])]\n"
          ]
        }
      ]
    },
    {
      "cell_type": "code",
      "source": [
        "D=np.arange(1,33).reshape(4,8)\n",
        "print(D)"
      ],
      "metadata": {
        "colab": {
          "base_uri": "https://localhost:8080/"
        },
        "id": "ZIKvzuCozml1",
        "outputId": "b29dc0f9-f945-418c-ca14-cea7ff2c348a"
      },
      "execution_count": null,
      "outputs": [
        {
          "output_type": "stream",
          "name": "stdout",
          "text": [
            "[[ 1  2  3  4  5  6  7  8]\n",
            " [ 9 10 11 12 13 14 15 16]\n",
            " [17 18 19 20 21 22 23 24]\n",
            " [25 26 27 28 29 30 31 32]]\n"
          ]
        }
      ]
    },
    {
      "cell_type": "code",
      "source": [
        "print(np.hsplit(D,(2,5)))"
      ],
      "metadata": {
        "colab": {
          "base_uri": "https://localhost:8080/"
        },
        "id": "-B5JpP7rz9l7",
        "outputId": "76518ac5-d8ff-4b7f-8f13-1688fb6cbf70"
      },
      "execution_count": null,
      "outputs": [
        {
          "output_type": "stream",
          "name": "stdout",
          "text": [
            "[array([[ 1,  2],\n",
            "       [ 9, 10],\n",
            "       [17, 18],\n",
            "       [25, 26]]), array([[ 3,  4,  5],\n",
            "       [11, 12, 13],\n",
            "       [19, 20, 21],\n",
            "       [27, 28, 29]]), array([[ 6,  7,  8],\n",
            "       [14, 15, 16],\n",
            "       [22, 23, 24],\n",
            "       [30, 31, 32]])]\n"
          ]
        }
      ]
    },
    {
      "cell_type": "code",
      "source": [
        "np.pi"
      ],
      "metadata": {
        "colab": {
          "base_uri": "https://localhost:8080/"
        },
        "id": "TRvkNxFd3ozy",
        "outputId": "d2482afe-47ea-4229-9a44-69affb7f301d"
      },
      "execution_count": null,
      "outputs": [
        {
          "output_type": "execute_result",
          "data": {
            "text/plain": [
              "3.141592653589793"
            ]
          },
          "metadata": {},
          "execution_count": 56
        }
      ]
    },
    {
      "cell_type": "code",
      "source": [
        "E=[np.pi/4,np.pi/3,np.pi/2,np.pi]\n",
        "print(E)"
      ],
      "metadata": {
        "colab": {
          "base_uri": "https://localhost:8080/"
        },
        "id": "YJWoaCsP3s13",
        "outputId": "25f4ccd2-deed-4959-b0b8-dbc3aa5e23e9"
      },
      "execution_count": null,
      "outputs": [
        {
          "output_type": "stream",
          "name": "stdout",
          "text": [
            "[0.7853981633974483, 1.0471975511965976, 1.5707963267948966, 3.141592653589793]\n"
          ]
        }
      ]
    },
    {
      "cell_type": "code",
      "source": [
        "#convert rad to deg\n",
        "F=np.rad2deg(E)\n",
        "print(F)"
      ],
      "metadata": {
        "colab": {
          "base_uri": "https://localhost:8080/"
        },
        "id": "y8SPccdi4QkV",
        "outputId": "d0589821-ba0d-4730-ca21-4130e3959b9e"
      },
      "execution_count": null,
      "outputs": [
        {
          "output_type": "stream",
          "name": "stdout",
          "text": [
            "[ 45.  60.  90. 180.]\n"
          ]
        }
      ]
    },
    {
      "cell_type": "code",
      "source": [
        "#convert deg to radians\n",
        "G=np.deg2rad(F)\n",
        "print(G)"
      ],
      "metadata": {
        "colab": {
          "base_uri": "https://localhost:8080/"
        },
        "id": "otZJEwIw4bIi",
        "outputId": "5d7b57fb-98fa-44af-a2c7-82cef2d88658"
      },
      "execution_count": null,
      "outputs": [
        {
          "output_type": "stream",
          "name": "stdout",
          "text": [
            "[0.78539816 1.04719755 1.57079633 3.14159265]\n"
          ]
        }
      ]
    },
    {
      "cell_type": "code",
      "source": [
        "a=np.sin(1)\n",
        "b=np.cos(1)\n",
        "c=np.tan(1)\n",
        "print(\"\\n\",a,\"\\n\",b,\"\\n\",c)"
      ],
      "metadata": {
        "colab": {
          "base_uri": "https://localhost:8080/"
        },
        "id": "9zdrJlvP5_lU",
        "outputId": "8d4c9fbd-ea45-4269-b637-26e770b778f7"
      },
      "execution_count": null,
      "outputs": [
        {
          "output_type": "stream",
          "name": "stdout",
          "text": [
            "\n",
            " 0.8414709848078965 \n",
            " 0.5403023058681398 \n",
            " 1.5574077246549023\n"
          ]
        }
      ]
    },
    {
      "cell_type": "markdown",
      "source": [
        "**Statistics**"
      ],
      "metadata": {
        "id": "PvOgMwlP62Ks"
      }
    },
    {
      "cell_type": "code",
      "source": [
        "st=np.array([23,45,67,89,21,34])\n",
        "np.mean(st)"
      ],
      "metadata": {
        "colab": {
          "base_uri": "https://localhost:8080/"
        },
        "id": "RfDEiIut66gc",
        "outputId": "a684f647-5ef2-4e5d-91d9-00d62d5a74cb"
      },
      "execution_count": null,
      "outputs": [
        {
          "output_type": "execute_result",
          "data": {
            "text/plain": [
              "46.5"
            ]
          },
          "metadata": {},
          "execution_count": 86
        }
      ]
    },
    {
      "cell_type": "code",
      "source": [
        "np.median(st)"
      ],
      "metadata": {
        "colab": {
          "base_uri": "https://localhost:8080/"
        },
        "id": "g6xFiobJ7bAb",
        "outputId": "2ac6998f-f7a2-413f-ce29-8d53a0f46f6e"
      },
      "execution_count": null,
      "outputs": [
        {
          "output_type": "execute_result",
          "data": {
            "text/plain": [
              "39.5"
            ]
          },
          "metadata": {},
          "execution_count": 87
        }
      ]
    },
    {
      "cell_type": "code",
      "source": [
        "np.var(st)"
      ],
      "metadata": {
        "colab": {
          "base_uri": "https://localhost:8080/"
        },
        "id": "rbCx5_Mv7qgC",
        "outputId": "a9a6640d-9b5d-43c6-e661-3f5cc5d1d90f"
      },
      "execution_count": null,
      "outputs": [
        {
          "output_type": "execute_result",
          "data": {
            "text/plain": [
              "597.9166666666666"
            ]
          },
          "metadata": {},
          "execution_count": 88
        }
      ]
    },
    {
      "cell_type": "code",
      "source": [
        "np.std(st)\n"
      ],
      "metadata": {
        "colab": {
          "base_uri": "https://localhost:8080/"
        },
        "id": "B00ZUxwf8vRq",
        "outputId": "cf58f893-5a4a-4d23-c34d-fe2401626ce6"
      },
      "execution_count": null,
      "outputs": [
        {
          "output_type": "execute_result",
          "data": {
            "text/plain": [
              "24.452334585202017"
            ]
          },
          "metadata": {},
          "execution_count": 89
        }
      ]
    },
    {
      "cell_type": "code",
      "source": [
        "C=np.arange(1,5).reshape(2,2)\n",
        "print(C)"
      ],
      "metadata": {
        "colab": {
          "base_uri": "https://localhost:8080/"
        },
        "id": "h4l2ZWQB-5jU",
        "outputId": "22db7048-cbc5-45a5-b19a-d59d31b937ee"
      },
      "execution_count": null,
      "outputs": [
        {
          "output_type": "stream",
          "name": "stdout",
          "text": [
            "[[1 2]\n",
            " [3 4]]\n"
          ]
        }
      ]
    },
    {
      "cell_type": "code",
      "source": [
        "#It is also a sub-package of numpy\n",
        "np.linalg.inv(C)"
      ],
      "metadata": {
        "colab": {
          "base_uri": "https://localhost:8080/"
        },
        "id": "0BNrDozd_GJr",
        "outputId": "b4f38297-cd77-4021-b54f-506682ec8826"
      },
      "execution_count": null,
      "outputs": [
        {
          "output_type": "execute_result",
          "data": {
            "text/plain": [
              "array([[-2. ,  1. ],\n",
              "       [ 1.5, -0.5]])"
            ]
          },
          "metadata": {},
          "execution_count": 91
        }
      ]
    },
    {
      "cell_type": "code",
      "source": [
        "C=np.arange(1,25).reshape(6,4)\n",
        "print(C)"
      ],
      "metadata": {
        "colab": {
          "base_uri": "https://localhost:8080/"
        },
        "id": "RgW46Z06_7ui",
        "outputId": "94fb6381-7500-4376-aae0-03b4ef83e7f3"
      },
      "execution_count": null,
      "outputs": [
        {
          "output_type": "stream",
          "name": "stdout",
          "text": [
            "[[ 1  2  3  4]\n",
            " [ 5  6  7  8]\n",
            " [ 9 10 11 12]\n",
            " [13 14 15 16]\n",
            " [17 18 19 20]\n",
            " [21 22 23 24]]\n"
          ]
        }
      ]
    },
    {
      "cell_type": "code",
      "source": [
        "print(np.argmax((C)))"
      ],
      "metadata": {
        "colab": {
          "base_uri": "https://localhost:8080/"
        },
        "id": "mcJ3wGu7AThs",
        "outputId": "8aaafe65-6430-4021-cec7-3d35b43067dd"
      },
      "execution_count": null,
      "outputs": [
        {
          "output_type": "stream",
          "name": "stdout",
          "text": [
            "23\n"
          ]
        }
      ]
    },
    {
      "cell_type": "code",
      "source": [
        "d=np.floor(10*np.random.rand(24).reshape(6,4))\n",
        "print(d)"
      ],
      "metadata": {
        "colab": {
          "base_uri": "https://localhost:8080/"
        },
        "id": "883WDLJuAbuo",
        "outputId": "f52d86ba-eff1-4191-d937-ebf17a942047"
      },
      "execution_count": null,
      "outputs": [
        {
          "output_type": "stream",
          "name": "stdout",
          "text": [
            "[[4. 1. 1. 3.]\n",
            " [5. 9. 0. 9.]\n",
            " [2. 8. 9. 4.]\n",
            " [8. 0. 5. 9.]\n",
            " [7. 7. 1. 4.]\n",
            " [4. 5. 3. 1.]]\n"
          ]
        }
      ]
    },
    {
      "cell_type": "code",
      "source": [
        "print(np.argmax((d)))"
      ],
      "metadata": {
        "colab": {
          "base_uri": "https://localhost:8080/"
        },
        "id": "6SjdaWOtBAfL",
        "outputId": "c0befb4d-424d-419e-913e-8436974a2f0d"
      },
      "execution_count": null,
      "outputs": [
        {
          "output_type": "stream",
          "name": "stdout",
          "text": [
            "5\n"
          ]
        }
      ]
    },
    {
      "cell_type": "code",
      "source": [
        "d=10*np.random.rand(24).reshape(6,4)\n",
        "print(d)"
      ],
      "metadata": {
        "colab": {
          "base_uri": "https://localhost:8080/"
        },
        "id": "6ZiJzoGbBOxF",
        "outputId": "566ead02-b1f1-4d44-93f1-3c2637a7976a"
      },
      "execution_count": null,
      "outputs": [
        {
          "output_type": "stream",
          "name": "stdout",
          "text": [
            "[[1.6370634  2.49671051 8.74636868 4.14693707]\n",
            " [2.65102636 8.7721782  0.6769456  2.37128702]\n",
            " [8.29192784 1.59748448 0.11399465 5.02179691]\n",
            " [9.56383145 9.8022004  3.81597633 1.36015799]\n",
            " [5.19566718 5.16255699 2.50861428 9.09594633]\n",
            " [2.01781859 8.16581249 3.85218969 7.35295323]]\n"
          ]
        }
      ]
    },
    {
      "cell_type": "code",
      "source": [
        "print(np.argmax(d,axis=0))"
      ],
      "metadata": {
        "colab": {
          "base_uri": "https://localhost:8080/"
        },
        "id": "gn6w_V3JBUh4",
        "outputId": "955483e3-7c83-44a6-df70-f9bb9e0ea92e"
      },
      "execution_count": null,
      "outputs": [
        {
          "output_type": "stream",
          "name": "stdout",
          "text": [
            "[3 3 0 4]\n"
          ]
        }
      ]
    },
    {
      "cell_type": "code",
      "source": [
        "print(np.argmin(d))"
      ],
      "metadata": {
        "colab": {
          "base_uri": "https://localhost:8080/"
        },
        "id": "TAhcELEoEqiO",
        "outputId": "74c3c917-f7cf-4780-f6d5-463e2378bb99"
      },
      "execution_count": null,
      "outputs": [
        {
          "output_type": "stream",
          "name": "stdout",
          "text": [
            "10\n"
          ]
        }
      ]
    },
    {
      "cell_type": "code",
      "source": [
        "print(np.argmin(d,axis=0))"
      ],
      "metadata": {
        "colab": {
          "base_uri": "https://localhost:8080/"
        },
        "id": "poTkZoO7EjM8",
        "outputId": "794673c1-21f9-4110-9e1f-8adabd1fc83b"
      },
      "execution_count": null,
      "outputs": [
        {
          "output_type": "stream",
          "name": "stdout",
          "text": [
            "[0 2 2 3]\n"
          ]
        }
      ]
    },
    {
      "cell_type": "code",
      "source": [
        "print(np.argmin(d,axis=1))"
      ],
      "metadata": {
        "colab": {
          "base_uri": "https://localhost:8080/"
        },
        "id": "g4kGGuMSEv2D",
        "outputId": "919164b3-fb0e-4be8-bded-43086744363b"
      },
      "execution_count": null,
      "outputs": [
        {
          "output_type": "stream",
          "name": "stdout",
          "text": [
            "[0 2 2 3 2 0]\n"
          ]
        }
      ]
    },
    {
      "cell_type": "markdown",
      "source": [
        "searching"
      ],
      "metadata": {
        "id": "3KclhbYmFWWk"
      }
    },
    {
      "cell_type": "code",
      "source": [
        "#FIND THE INDEXES WHERE THE VALUES ARE ODD\n",
        "a=np.array([34,56,17,88,91])\n",
        "b=np.where(a%2!=0)\n",
        "print(b)"
      ],
      "metadata": {
        "colab": {
          "base_uri": "https://localhost:8080/"
        },
        "id": "czTsKKXkFaVw",
        "outputId": "15c59837-0f21-4104-c968-87d2c3da89fa"
      },
      "execution_count": null,
      "outputs": [
        {
          "output_type": "stream",
          "name": "stdout",
          "text": [
            "(array([2, 4]),)\n"
          ]
        }
      ]
    },
    {
      "cell_type": "code",
      "source": [
        "arr[b]"
      ],
      "metadata": {
        "colab": {
          "base_uri": "https://localhost:8080/"
        },
        "id": "CAcD2SsfLw1M",
        "outputId": "8514086e-c481-4ea9-94db-7b2c16401da1"
      },
      "execution_count": null,
      "outputs": [
        {
          "output_type": "execute_result",
          "data": {
            "text/plain": [
              "array([50, 67])"
            ]
          },
          "metadata": {},
          "execution_count": 146
        }
      ]
    },
    {
      "cell_type": "code",
      "source": [
        "#FINDING INDEXES WHERE THE VALUES ARE DIVISIBLE BY 6\n",
        "b=np.array([24,16,7,17,54,60])\n",
        "print(np.where(b%6==0))\n"
      ],
      "metadata": {
        "colab": {
          "base_uri": "https://localhost:8080/"
        },
        "id": "9hUvqsoJGZ1p",
        "outputId": "3d7a47da-5631-4095-c281-7864e6f3bc6e"
      },
      "execution_count": null,
      "outputs": [
        {
          "output_type": "stream",
          "name": "stdout",
          "text": [
            "(array([0, 4, 5]),)\n"
          ]
        }
      ]
    },
    {
      "cell_type": "code",
      "source": [
        "# FINDING INEX NUMBER OF GIVEN NUMBER\n",
        " c=np.array([6,7,8,9,10])\n",
        "x=np.searchsorted(c,10)\n",
        "print(x)"
      ],
      "metadata": {
        "colab": {
          "base_uri": "https://localhost:8080/"
        },
        "id": "b9hT2WmKHTRv",
        "outputId": "3da6d71b-bec7-4240-cef3-f0e2f184878c"
      },
      "execution_count": null,
      "outputs": [
        {
          "output_type": "stream",
          "name": "stdout",
          "text": [
            "4\n"
          ]
        }
      ]
    },
    {
      "cell_type": "code",
      "source": [
        "c=np.array([6,7,8,9,10])\n",
        "x=np.searchsorted(c,6)\n",
        "print(x)"
      ],
      "metadata": {
        "colab": {
          "base_uri": "https://localhost:8080/"
        },
        "id": "c1C_zn6DHrta",
        "outputId": "4212e2d9-0626-4b2c-d301-cb9117138932"
      },
      "execution_count": null,
      "outputs": [
        {
          "output_type": "stream",
          "name": "stdout",
          "text": [
            "0\n"
          ]
        }
      ]
    },
    {
      "cell_type": "code",
      "source": [
        "c=np.array([6,7,8,9,10])\n",
        "x=np.searchsorted(c,7)\n",
        "print(x)"
      ],
      "metadata": {
        "colab": {
          "base_uri": "https://localhost:8080/"
        },
        "id": "Iv2M_D_zHwdR",
        "outputId": "c01c68c2-da3a-4e7e-a9cc-47ac1ae7be8b"
      },
      "execution_count": null,
      "outputs": [
        {
          "output_type": "stream",
          "name": "stdout",
          "text": [
            "1\n"
          ]
        }
      ]
    },
    {
      "cell_type": "code",
      "source": [
        "c=np.array([6,5,8,2,10])\n",
        "x=np.searchsorted(c,5)\n",
        "print(x)#GIVING WRONG OUTPUT"
      ],
      "metadata": {
        "colab": {
          "base_uri": "https://localhost:8080/"
        },
        "id": "IgV5z9CAH0X5",
        "outputId": "ef5bc892-f0a8-4c8a-e283-2ee582984a27"
      },
      "execution_count": null,
      "outputs": [
        {
          "output_type": "stream",
          "name": "stdout",
          "text": [
            "0\n"
          ]
        }
      ]
    },
    {
      "cell_type": "code",
      "source": [
        "#SORTING ARRAY\n",
        "arr=np.array(['lavanya','prsanna','sasi','akhila'])\n",
        "print(np.sort(arr))"
      ],
      "metadata": {
        "colab": {
          "base_uri": "https://localhost:8080/"
        },
        "id": "0ewdTj42ISnv",
        "outputId": "9f699881-c219-402b-d8fd-acd82cd3ca25"
      },
      "execution_count": null,
      "outputs": [
        {
          "output_type": "stream",
          "name": "stdout",
          "text": [
            "['akhila' 'lavanya' 'prsanna' 'sasi']\n"
          ]
        }
      ]
    },
    {
      "cell_type": "code",
      "source": [
        "arr=np.array(['true','false','true'])\n",
        "print(np.sort(arr))"
      ],
      "metadata": {
        "colab": {
          "base_uri": "https://localhost:8080/"
        },
        "id": "7t4Omc0_JK4O",
        "outputId": "28542e30-a0d2-4cb4-95f9-0cbb4fc42b3b"
      },
      "execution_count": null,
      "outputs": [
        {
          "output_type": "stream",
          "name": "stdout",
          "text": [
            "['false' 'true' 'true']\n"
          ]
        }
      ]
    },
    {
      "cell_type": "code",
      "source": [
        "#2D SORT HAPPENS WITHIN THE ROW\n",
        "arr=np.array([[12,40,34],[50,10,20]])\n",
        "print(np.sort(arr))"
      ],
      "metadata": {
        "colab": {
          "base_uri": "https://localhost:8080/"
        },
        "id": "tUKHmuFWJhx2",
        "outputId": "dc80935b-ded3-48c6-ec31-a81cd966ab03"
      },
      "execution_count": null,
      "outputs": [
        {
          "output_type": "stream",
          "name": "stdout",
          "text": [
            "[[12 34 40]\n",
            " [10 20 50]]\n"
          ]
        }
      ]
    },
    {
      "cell_type": "code",
      "source": [
        "#ARRAY FILTER\n",
        "arr=np.array([40,42,50,44,67,78])\n",
        "x=[True,False,True,False,True,True]#FILTER LIST\n",
        "newarr=arr[x]\n",
        "print(newarr)"
      ],
      "metadata": {
        "colab": {
          "base_uri": "https://localhost:8080/"
        },
        "id": "XJHM-6OPKAOa",
        "outputId": "bfbbf18e-aa61-4dfd-ac67-4cee1d665e1c"
      },
      "execution_count": null,
      "outputs": [
        {
          "output_type": "stream",
          "name": "stdout",
          "text": [
            "[40 50 67 78]\n"
          ]
        }
      ]
    },
    {
      "cell_type": "code",
      "source": [
        "# TO ADD TWO ARRAYS\n",
        "names=np.array(['lavanya','sasi','prasanna','akhila'])\n",
        "initials=np.array(['P','P','N','T'])\n",
        "for i,j in zip(initials,names):\n",
        "  print(i,\".\",j)"
      ],
      "metadata": {
        "colab": {
          "base_uri": "https://localhost:8080/"
        },
        "id": "fX7sf8hMNVCb",
        "outputId": "5705a2d1-0bc1-41e1-8ce5-dbe139aa2ceb"
      },
      "execution_count": null,
      "outputs": [
        {
          "output_type": "stream",
          "name": "stdout",
          "text": [
            "P . lavanya\n",
            "P . sasi\n",
            "N . prasanna\n",
            "T . akhila\n"
          ]
        }
      ]
    },
    {
      "cell_type": "code",
      "source": [
        "#ADD THREE ARRAYS\n",
        "names=np.array(['lavanya','sasi','prasanna','akhila'])\n",
        "initials=np.array(['P','P','N','T'])\n",
        "num=np.array(['05b1','05b0','05a6','o5c0'])\n",
        "for i,j,k in zip(initials,names,num):\n",
        "  print(i,\".\",j,\".\",k)"
      ],
      "metadata": {
        "colab": {
          "base_uri": "https://localhost:8080/"
        },
        "id": "3iDyjVuXPH1y",
        "outputId": "9ac78424-a328-4555-be44-f0e4a6f27225"
      },
      "execution_count": null,
      "outputs": [
        {
          "output_type": "stream",
          "name": "stdout",
          "text": [
            "P . lavanya . 05b1\n",
            "P . sasi . 05b0\n",
            "N . prasanna . 05a6\n",
            "T . akhila . o5c0\n"
          ]
        }
      ]
    },
    {
      "cell_type": "code",
      "source": [
        "a1=np.array([10,30,40,50,60])\n",
        "a2=np.array([2,3,4,5,6])\n",
        "n=np.multiply(a1,a2)\n",
        "print(n)"
      ],
      "metadata": {
        "colab": {
          "base_uri": "https://localhost:8080/"
        },
        "id": "fwWWSG6MQfoM",
        "outputId": "28b21715-b248-400a-fb5e-bdd016b5113e"
      },
      "execution_count": null,
      "outputs": [
        {
          "output_type": "stream",
          "name": "stdout",
          "text": [
            "[ 20  90 160 250 360]\n"
          ]
        }
      ]
    },
    {
      "cell_type": "code",
      "source": [
        "a1=np.array([10,30,40,50,60])\n",
        "a2=np.array([2,3,4,5,6])\n",
        "m=np.divide(a1,a2)\n",
        "print(m)"
      ],
      "metadata": {
        "colab": {
          "base_uri": "https://localhost:8080/"
        },
        "id": "vcWuF8rjR0oM",
        "outputId": "40020df2-8526-4a1d-b69e-503988e62f58"
      },
      "execution_count": null,
      "outputs": [
        {
          "output_type": "stream",
          "name": "stdout",
          "text": [
            "[ 5. 10. 10. 10. 10.]\n"
          ]
        }
      ]
    },
    {
      "cell_type": "code",
      "source": [
        "a1=np.array([10,30,40,50,60])\n",
        "a2=np.array([2,3,4,5,6])\n",
        "o=np.mod(a1,a2)\n",
        "print(o)"
      ],
      "metadata": {
        "colab": {
          "base_uri": "https://localhost:8080/"
        },
        "id": "A-nw7-SRR9RL",
        "outputId": "9bef8b48-30ea-4dd0-937f-230d309fe732"
      },
      "execution_count": null,
      "outputs": [
        {
          "output_type": "stream",
          "name": "stdout",
          "text": [
            "[0 0 0 0 0]\n"
          ]
        }
      ]
    },
    {
      "cell_type": "code",
      "source": [
        "a1=np.array([10,30,40,50,60])\n",
        "a2=np.array([2,3,4,5,6])\n",
        "p=np.divmod(a1,a2)\n",
        "print(p)"
      ],
      "metadata": {
        "colab": {
          "base_uri": "https://localhost:8080/"
        },
        "id": "TINz_b0PSF7Q",
        "outputId": "8a0fc895-cdc9-4493-c420-12fbc8216fac"
      },
      "execution_count": null,
      "outputs": [
        {
          "output_type": "stream",
          "name": "stdout",
          "text": [
            "(array([ 5, 10, 10, 10, 10]), array([0, 0, 0, 0, 0]))\n"
          ]
        }
      ]
    },
    {
      "cell_type": "markdown",
      "source": [
        "**logarithms**"
      ],
      "metadata": {
        "id": "kyaYWQ5DSbc9"
      }
    },
    {
      "cell_type": "code",
      "source": [
        "a1=np.arange(1,10)\n",
        "print(a1)\n",
        "print(np.log10(a1))"
      ],
      "metadata": {
        "colab": {
          "base_uri": "https://localhost:8080/"
        },
        "id": "o2yz5RKXSeSm",
        "outputId": "46d4c9e7-a26b-4ffb-c1f5-b7254e64b359"
      },
      "execution_count": null,
      "outputs": [
        {
          "output_type": "stream",
          "name": "stdout",
          "text": [
            "[1 2 3 4 5 6 7 8 9]\n",
            "[0.         0.30103    0.47712125 0.60205999 0.69897    0.77815125\n",
            " 0.84509804 0.90308999 0.95424251]\n"
          ]
        }
      ]
    },
    {
      "cell_type": "code",
      "source": [
        "#NATURAL log e\n",
        "a=1.2\n",
        "print(np.log(a))"
      ],
      "metadata": {
        "colab": {
          "base_uri": "https://localhost:8080/"
        },
        "id": "IM_P-1omTF1z",
        "outputId": "55213878-9465-4e54-b9fb-10b1c54a2649"
      },
      "execution_count": null,
      "outputs": [
        {
          "output_type": "stream",
          "name": "stdout",
          "text": [
            "0.1823215567939546\n"
          ]
        }
      ]
    },
    {
      "cell_type": "code",
      "source": [
        "#log base 2\n",
        "print(np.log2(a))"
      ],
      "metadata": {
        "colab": {
          "base_uri": "https://localhost:8080/"
        },
        "id": "fSmCuaqETPtQ",
        "outputId": "38cd973e-a9de-4871-df33-a4605163cee5"
      },
      "execution_count": null,
      "outputs": [
        {
          "output_type": "stream",
          "name": "stdout",
          "text": [
            "0.2630344058337938\n"
          ]
        }
      ]
    },
    {
      "cell_type": "code",
      "source": [
        "#log base 10\n",
        "print(np.log10(a))"
      ],
      "metadata": {
        "colab": {
          "base_uri": "https://localhost:8080/"
        },
        "id": "iMwtET-qTbWs",
        "outputId": "4e173d32-b63b-4f40-c1ac-51b2023ae442"
      },
      "execution_count": null,
      "outputs": [
        {
          "output_type": "stream",
          "name": "stdout",
          "text": [
            "0.07918124604762482\n"
          ]
        }
      ]
    },
    {
      "cell_type": "code",
      "source": [
        "b=np.array([1,1,1,2,3,4])\n",
        "print(np.log(b))"
      ],
      "metadata": {
        "colab": {
          "base_uri": "https://localhost:8080/"
        },
        "id": "ypFQusAtTyuo",
        "outputId": "f1e7990f-018e-40da-84d6-34734d24d09d"
      },
      "execution_count": null,
      "outputs": [
        {
          "output_type": "stream",
          "name": "stdout",
          "text": [
            "[0.         0.         0.         0.69314718 1.09861229 1.38629436]\n"
          ]
        }
      ]
    },
    {
      "cell_type": "code",
      "source": [
        "a2=np.array([5,6,7,10])\n",
        "x=np.cumprod(a2)#MULTIPLY FIRST NUMBER AND SECOUND NUMBER\n",
        "print(x)"
      ],
      "metadata": {
        "colab": {
          "base_uri": "https://localhost:8080/"
        },
        "id": "vFGzz09cU1wn",
        "outputId": "56d38895-f797-42a3-fd6b-fecfceaa2cf0"
      },
      "execution_count": null,
      "outputs": [
        {
          "output_type": "stream",
          "name": "stdout",
          "text": [
            "[   5   30  210 2100]\n"
          ]
        }
      ]
    },
    {
      "cell_type": "code",
      "source": [
        "a2=np.array([5,6,7,10])\n",
        "x=np.cumsum(a2)#ADDIND FIRST NUMBER AND SECOUND NUMBER\n",
        "print(x)"
      ],
      "metadata": {
        "colab": {
          "base_uri": "https://localhost:8080/"
        },
        "id": "7Iizq0hhWXTT",
        "outputId": "3858a256-8ad1-48e9-dc6a-61cea1bcb568"
      },
      "execution_count": null,
      "outputs": [
        {
          "output_type": "stream",
          "name": "stdout",
          "text": [
            "[ 5 11 18 28]\n"
          ]
        }
      ]
    },
    {
      "cell_type": "code",
      "source": [
        "a3=np.array([10,15,52,15])\n",
        "newarr=np.diff(a3)# SUNSTRACTING SECOUND NUMBER FROM FIRST NUMBER\n",
        "print(newarr)"
      ],
      "metadata": {
        "colab": {
          "base_uri": "https://localhost:8080/"
        },
        "id": "t6xJNIprVD9P",
        "outputId": "479f8b24-48e6-42ae-cf54-aa075e6c4c5d"
      },
      "execution_count": null,
      "outputs": [
        {
          "output_type": "stream",
          "name": "stdout",
          "text": [
            "[  5  37 -37]\n"
          ]
        }
      ]
    },
    {
      "cell_type": "code",
      "source": [
        "#FINDING LCM\n",
        "m1=455\n",
        "m2=665\n",
        "x=np.lcm(m1,m2)\n",
        "print(x)"
      ],
      "metadata": {
        "colab": {
          "base_uri": "https://localhost:8080/"
        },
        "id": "GZvhzAJZWBBe",
        "outputId": "8269154f-5e12-4c2d-b0f9-2c6364352542"
      },
      "execution_count": null,
      "outputs": [
        {
          "output_type": "stream",
          "name": "stdout",
          "text": [
            "8645\n"
          ]
        }
      ]
    },
    {
      "cell_type": "code",
      "source": [
        "#FINDING GCD\n",
        "m1=455\n",
        "m2=665\n",
        "x=np.gcd(m1,m2)\n",
        "print(x)"
      ],
      "metadata": {
        "colab": {
          "base_uri": "https://localhost:8080/"
        },
        "id": "yoOfS-hfWO6N",
        "outputId": "51341982-44f8-499d-c2ac-7f1631b1295d"
      },
      "execution_count": null,
      "outputs": [
        {
          "output_type": "stream",
          "name": "stdout",
          "text": [
            "35\n"
          ]
        }
      ]
    },
    {
      "cell_type": "code",
      "source": [
        "#TAKE MULTIPLE INPUTS GIVES SINGLE OUTPUT\n",
        "a=np.array([12,15,60])\n",
        "gc=np.gcd.reduce(a)\n",
        "print(gc)"
      ],
      "metadata": {
        "colab": {
          "base_uri": "https://localhost:8080/"
        },
        "id": "6x4DWFfsWhs5",
        "outputId": "968fc91d-950b-46ff-88a8-e8e5abd5661e"
      },
      "execution_count": null,
      "outputs": [
        {
          "output_type": "stream",
          "name": "stdout",
          "text": [
            "3\n"
          ]
        }
      ]
    },
    {
      "cell_type": "code",
      "source": [
        "a=np.array([12,15,60])\n",
        "lc=np.lcm.reduce(a)\n",
        "print(lc)"
      ],
      "metadata": {
        "colab": {
          "base_uri": "https://localhost:8080/"
        },
        "id": "A4KW0BAdXm9G",
        "outputId": "58d82a3b-6ab9-478a-8c41-d815d9fd0ba8"
      },
      "execution_count": null,
      "outputs": [
        {
          "output_type": "stream",
          "name": "stdout",
          "text": [
            "60\n"
          ]
        }
      ]
    },
    {
      "cell_type": "code",
      "source": [],
      "metadata": {
        "id": "kGIIT58SXuXB"
      },
      "execution_count": null,
      "outputs": []
    }
  ]
}