{
  "nbformat": 4,
  "nbformat_minor": 0,
  "metadata": {
    "colab": {
      "provenance": []
    },
    "kernelspec": {
      "name": "python3",
      "display_name": "Python 3"
    },
    "language_info": {
      "name": "python"
    }
  },
  "cells": [
    {
      "cell_type": "code",
      "execution_count": null,
      "metadata": {
        "id": "t0RGmaHrcyx9"
      },
      "outputs": [],
      "source": [
        "#importing\n",
        "import numpy as np\n"
      ]
    },
    {
      "cell_type": "markdown",
      "source": [
        "Arrays\n"
      ],
      "metadata": {
        "id": "Y_eZed9dgHuz"
      }
    },
    {
      "cell_type": "code",
      "source": [
        "#creating 1D array\n",
        "import numpy as np\n",
        "a=np.array([2,3,4,5,])\n",
        "print(type(a))"
      ],
      "metadata": {
        "colab": {
          "base_uri": "https://localhost:8080/"
        },
        "id": "WdI4nOB6gKt7",
        "outputId": "a748536c-56c6-4a9e-8900-236674858f14"
      },
      "execution_count": null,
      "outputs": [
        {
          "output_type": "stream",
          "name": "stdout",
          "text": [
            "<class 'numpy.ndarray'>\n"
          ]
        }
      ]
    },
    {
      "cell_type": "code",
      "source": [
        "#craeting 2D array-rows and colums\n",
        "import numpy as np\n",
        "b=np.array([[2,3,4],[7,8,9]])\n",
        "print(b)"
      ],
      "metadata": {
        "id": "orms6_h7hCCt",
        "colab": {
          "base_uri": "https://localhost:8080/"
        },
        "outputId": "a7baa6b4-9160-425e-b306-bc61b7252078"
      },
      "execution_count": null,
      "outputs": [
        {
          "output_type": "stream",
          "name": "stdout",
          "text": [
            "[[2 3 4]\n",
            " [7 8 9]]\n"
          ]
        }
      ]
    },
    {
      "cell_type": "code",
      "source": [
        "#craeting a 3D array--rows,colums,groups\n",
        "import numpy as np\n",
        "c=np.array([[[1,2,3],[4,5,6]],[[6,9,0],[2,3,11]]])\n",
        "print(c)"
      ],
      "metadata": {
        "colab": {
          "base_uri": "https://localhost:8080/"
        },
        "id": "qXu-Rh5khjKq",
        "outputId": "77b1fa20-d4b3-454f-e537-0e11a6149d10"
      },
      "execution_count": null,
      "outputs": [
        {
          "output_type": "stream",
          "name": "stdout",
          "text": [
            "[[[ 1  2  3]\n",
            "  [ 4  5  6]]\n",
            "\n",
            " [[ 6  9  0]\n",
            "  [ 2  3 11]]]\n"
          ]
        }
      ]
    },
    {
      "cell_type": "code",
      "source": [
        "#checking dimensions\n",
        "print(a.ndim)\n",
        "print(b.ndim)\n",
        "print(c.ndim)"
      ],
      "metadata": {
        "colab": {
          "base_uri": "https://localhost:8080/"
        },
        "id": "8KI3EAMViy6K",
        "outputId": "88b55d85-7935-4670-906e-d455eb821d73"
      },
      "execution_count": null,
      "outputs": [
        {
          "output_type": "stream",
          "name": "stdout",
          "text": [
            "2\n",
            "2\n",
            "3\n"
          ]
        }
      ]
    },
    {
      "cell_type": "code",
      "source": [
        "#ones\n",
        "import numpy as np\n",
        "d=np.ones((2,5))#2D#rows,columns\n",
        "print(d)"
      ],
      "metadata": {
        "colab": {
          "base_uri": "https://localhost:8080/"
        },
        "id": "cSRsncUZjw0Q",
        "outputId": "0da542ce-5460-4f9a-d97b-e326714736d1"
      },
      "execution_count": null,
      "outputs": [
        {
          "output_type": "stream",
          "name": "stdout",
          "text": [
            "[[1. 1. 1. 1. 1.]\n",
            " [1. 1. 1. 1. 1.]]\n"
          ]
        }
      ]
    },
    {
      "cell_type": "code",
      "source": [
        "#ones\n",
        "import numpy as np\n",
        "e=np.ones((2,3,2))#3D groups ,rows ,columns\n",
        "print(e)"
      ],
      "metadata": {
        "colab": {
          "base_uri": "https://localhost:8080/"
        },
        "id": "QmInnTNfnGXJ",
        "outputId": "29cc78ca-94dd-4284-dfde-7c9a9e7a24e2"
      },
      "execution_count": null,
      "outputs": [
        {
          "output_type": "stream",
          "name": "stdout",
          "text": [
            "[[[1. 1.]\n",
            "  [1. 1.]\n",
            "  [1. 1.]]\n",
            "\n",
            " [[1. 1.]\n",
            "  [1. 1.]\n",
            "  [1. 1.]]]\n"
          ]
        }
      ]
    },
    {
      "cell_type": "code",
      "source": [
        "#zeros\n",
        "import numpy as np\n",
        "f=np.zeros((3,2))#2D#rows ,columns\n",
        "print(f)"
      ],
      "metadata": {
        "colab": {
          "base_uri": "https://localhost:8080/"
        },
        "id": "Z3tLWtcInWx3",
        "outputId": "82cfdff1-3080-46c5-a0a4-88ad32489f5e"
      },
      "execution_count": null,
      "outputs": [
        {
          "output_type": "stream",
          "name": "stdout",
          "text": [
            "[[0. 0.]\n",
            " [0. 0.]\n",
            " [0. 0.]]\n"
          ]
        }
      ]
    },
    {
      "cell_type": "code",
      "source": [
        "#zreos\n",
        "import numpy as np\n",
        "g=np.zeros((2,3,2))#groups ,rows,colums #3D\n",
        "print(g)"
      ],
      "metadata": {
        "colab": {
          "base_uri": "https://localhost:8080/"
        },
        "id": "wRaYAbaEnsPk",
        "outputId": "e1472e05-2632-448d-e708-e3a41a6529dc"
      },
      "execution_count": null,
      "outputs": [
        {
          "output_type": "stream",
          "name": "stdout",
          "text": [
            "[[[0. 0.]\n",
            "  [0. 0.]\n",
            "  [0. 0.]]\n",
            "\n",
            " [[0. 0.]\n",
            "  [0. 0.]\n",
            "  [0. 0.]]]\n"
          ]
        }
      ]
    },
    {
      "cell_type": "code",
      "source": [
        "import numpy as np\n",
        "h=np.eye(2)\n",
        "print(h)"
      ],
      "metadata": {
        "colab": {
          "base_uri": "https://localhost:8080/"
        },
        "id": "Z_KK3wlhoRyn",
        "outputId": "4b2515e9-fcc8-4485-c31c-83d42f407e33"
      },
      "execution_count": null,
      "outputs": [
        {
          "output_type": "stream",
          "name": "stdout",
          "text": [
            "[[1. 0.]\n",
            " [0. 1.]]\n"
          ]
        }
      ]
    },
    {
      "cell_type": "code",
      "source": [
        "#arrange\n",
        "import numpy as np\n",
        "i=np.arange(3,31,3)#printing from 3 to 30 by dividing 3\n",
        "print(i)"
      ],
      "metadata": {
        "colab": {
          "base_uri": "https://localhost:8080/"
        },
        "id": "3ESJ-m4AomXh",
        "outputId": "e54cfdd9-1c4f-4216-8c41-c25c5557f15b"
      },
      "execution_count": null,
      "outputs": [
        {
          "output_type": "stream",
          "name": "stdout",
          "text": [
            "[ 3  6  9 12 15 18 21 24 27 30]\n"
          ]
        }
      ]
    },
    {
      "cell_type": "code",
      "source": [
        "#reshape\n",
        "import numpy as np\n",
        "j=np.arange(3,31,3).reshape(5,2)\n",
        "print(j)"
      ],
      "metadata": {
        "colab": {
          "base_uri": "https://localhost:8080/"
        },
        "id": "ZrTNWEb0o52m",
        "outputId": "0028d76d-71a1-47ca-c8f4-d35fa7f48d1c"
      },
      "execution_count": null,
      "outputs": [
        {
          "output_type": "stream",
          "name": "stdout",
          "text": [
            "[[ 3  6]\n",
            " [ 9 12]\n",
            " [15 18]\n",
            " [21 24]\n",
            " [27 30]]\n"
          ]
        }
      ]
    },
    {
      "cell_type": "code",
      "source": [
        "#5 table\n",
        "import numpy as np\n",
        "k=np.arange(5,1001,5)\n",
        "print(k)"
      ],
      "metadata": {
        "colab": {
          "base_uri": "https://localhost:8080/"
        },
        "id": "OL1r9XdLpM47",
        "outputId": "0f3a25bc-fb2c-44df-9b34-5e4e8f1adbf7"
      },
      "execution_count": null,
      "outputs": [
        {
          "output_type": "stream",
          "name": "stdout",
          "text": [
            "[   5   10   15   20   25   30   35   40   45   50   55   60   65   70\n",
            "   75   80   85   90   95  100  105  110  115  120  125  130  135  140\n",
            "  145  150  155  160  165  170  175  180  185  190  195  200  205  210\n",
            "  215  220  225  230  235  240  245  250  255  260  265  270  275  280\n",
            "  285  290  295  300  305  310  315  320  325  330  335  340  345  350\n",
            "  355  360  365  370  375  380  385  390  395  400  405  410  415  420\n",
            "  425  430  435  440  445  450  455  460  465  470  475  480  485  490\n",
            "  495  500  505  510  515  520  525  530  535  540  545  550  555  560\n",
            "  565  570  575  580  585  590  595  600  605  610  615  620  625  630\n",
            "  635  640  645  650  655  660  665  670  675  680  685  690  695  700\n",
            "  705  710  715  720  725  730  735  740  745  750  755  760  765  770\n",
            "  775  780  785  790  795  800  805  810  815  820  825  830  835  840\n",
            "  845  850  855  860  865  870  875  880  885  890  895  900  905  910\n",
            "  915  920  925  930  935  940  945  950  955  960  965  970  975  980\n",
            "  985  990  995 1000]\n"
          ]
        }
      ]
    },
    {
      "cell_type": "code",
      "source": [
        "import numpy as np\n",
        "l=np.arange(5,1001,5).reshape(40,5)\n",
        "print(l)"
      ],
      "metadata": {
        "colab": {
          "base_uri": "https://localhost:8080/"
        },
        "id": "C23-lUimp2Rw",
        "outputId": "3a5ab755-0db9-4a60-afc2-a5f70187b575"
      },
      "execution_count": null,
      "outputs": [
        {
          "output_type": "stream",
          "name": "stdout",
          "text": [
            "[[   5   10   15   20   25]\n",
            " [  30   35   40   45   50]\n",
            " [  55   60   65   70   75]\n",
            " [  80   85   90   95  100]\n",
            " [ 105  110  115  120  125]\n",
            " [ 130  135  140  145  150]\n",
            " [ 155  160  165  170  175]\n",
            " [ 180  185  190  195  200]\n",
            " [ 205  210  215  220  225]\n",
            " [ 230  235  240  245  250]\n",
            " [ 255  260  265  270  275]\n",
            " [ 280  285  290  295  300]\n",
            " [ 305  310  315  320  325]\n",
            " [ 330  335  340  345  350]\n",
            " [ 355  360  365  370  375]\n",
            " [ 380  385  390  395  400]\n",
            " [ 405  410  415  420  425]\n",
            " [ 430  435  440  445  450]\n",
            " [ 455  460  465  470  475]\n",
            " [ 480  485  490  495  500]\n",
            " [ 505  510  515  520  525]\n",
            " [ 530  535  540  545  550]\n",
            " [ 555  560  565  570  575]\n",
            " [ 580  585  590  595  600]\n",
            " [ 605  610  615  620  625]\n",
            " [ 630  635  640  645  650]\n",
            " [ 655  660  665  670  675]\n",
            " [ 680  685  690  695  700]\n",
            " [ 705  710  715  720  725]\n",
            " [ 730  735  740  745  750]\n",
            " [ 755  760  765  770  775]\n",
            " [ 780  785  790  795  800]\n",
            " [ 805  810  815  820  825]\n",
            " [ 830  835  840  845  850]\n",
            " [ 855  860  865  870  875]\n",
            " [ 880  885  890  895  900]\n",
            " [ 905  910  915  920  925]\n",
            " [ 930  935  940  945  950]\n",
            " [ 955  960  965  970  975]\n",
            " [ 980  985  990  995 1000]]\n"
          ]
        }
      ]
    },
    {
      "cell_type": "code",
      "source": [
        "#linespace\n",
        "import numpy as np\n",
        "m=np.linspace(1,2,6)#split the numbers from 1 to 2 until 6 numbers\n",
        "print(m)"
      ],
      "metadata": {
        "colab": {
          "base_uri": "https://localhost:8080/"
        },
        "id": "NL8Hq6yHqpB9",
        "outputId": "66c72e6b-ae98-4f64-fdd7-f7ed5760ed56"
      },
      "execution_count": null,
      "outputs": [
        {
          "output_type": "stream",
          "name": "stdout",
          "text": [
            "[1.  1.2 1.4 1.6 1.8 2. ]\n"
          ]
        }
      ]
    },
    {
      "cell_type": "code",
      "source": [
        "import numpy as np\n",
        "n=np.arange(1,7).reshape(2,3)\n",
        "print(n)\n",
        "o=np.arange(9,15).reshape(2,3)\n",
        "print(o)"
      ],
      "metadata": {
        "colab": {
          "base_uri": "https://localhost:8080/"
        },
        "id": "oZMyxpaxrC-V",
        "outputId": "ff05d5ef-e9d3-4970-bc1c-498eb31fad6a"
      },
      "execution_count": null,
      "outputs": [
        {
          "output_type": "stream",
          "name": "stdout",
          "text": [
            "[[1 2 3]\n",
            " [4 5 6]]\n",
            "[[ 9 10 11]\n",
            " [12 13 14]]\n"
          ]
        }
      ]
    },
    {
      "cell_type": "code",
      "source": [
        "print(n+o)"
      ],
      "metadata": {
        "colab": {
          "base_uri": "https://localhost:8080/"
        },
        "id": "xu_FEJFysVN0",
        "outputId": "0d46366b-4d36-4fbf-a5e8-cdffaae7c91c"
      },
      "execution_count": null,
      "outputs": [
        {
          "output_type": "stream",
          "name": "stdout",
          "text": [
            "[[10 12 14]\n",
            " [16 18 20]]\n"
          ]
        }
      ]
    },
    {
      "cell_type": "code",
      "source": [
        "#using sum\n",
        "p=np.sum((n,o))\n",
        "print(p)"
      ],
      "metadata": {
        "colab": {
          "base_uri": "https://localhost:8080/"
        },
        "id": "8mc8e6prsfti",
        "outputId": "ee5670dd-cdd8-4992-82fe-6a4cc1851f2a"
      },
      "execution_count": null,
      "outputs": [
        {
          "output_type": "stream",
          "name": "stdout",
          "text": [
            "90\n"
          ]
        }
      ]
    },
    {
      "cell_type": "code",
      "source": [
        "q=np.sum((n,o),axis =0)\n",
        "print(q)"
      ],
      "metadata": {
        "colab": {
          "base_uri": "https://localhost:8080/"
        },
        "id": "Z_R3V0Zvuw69",
        "outputId": "34d700ba-c928-4fb3-a5f4-0545ae4cf4cd"
      },
      "execution_count": null,
      "outputs": [
        {
          "output_type": "stream",
          "name": "stdout",
          "text": [
            "[[10 12 14]\n",
            " [16 18 20]]\n"
          ]
        }
      ]
    },
    {
      "cell_type": "code",
      "source": [
        "r=np.sum((n,o),axis =1)\n",
        "print(r)"
      ],
      "metadata": {
        "colab": {
          "base_uri": "https://localhost:8080/"
        },
        "id": "UStPIY9gvaqe",
        "outputId": "772e98d7-6d0d-4fa9-8458-038da22455ca"
      },
      "execution_count": null,
      "outputs": [
        {
          "output_type": "stream",
          "name": "stdout",
          "text": [
            "[[ 5  7  9]\n",
            " [21 23 25]]\n"
          ]
        }
      ]
    },
    {
      "cell_type": "code",
      "source": [
        "s=np.sum((n,o),axis =2)\n",
        "print(s)"
      ],
      "metadata": {
        "colab": {
          "base_uri": "https://localhost:8080/"
        },
        "id": "3QZzvrWoviEZ",
        "outputId": "73f851ab-0413-485b-80ec-a441a3eefe28"
      },
      "execution_count": null,
      "outputs": [
        {
          "output_type": "stream",
          "name": "stdout",
          "text": [
            "[[ 6 15]\n",
            " [30 39]]\n"
          ]
        }
      ]
    },
    {
      "cell_type": "code",
      "source": [
        "t=np.ones((4,2))\n",
        "u=np.ones((4,2))\n",
        "print(np.sum((t,u),axis=0))"
      ],
      "metadata": {
        "colab": {
          "base_uri": "https://localhost:8080/"
        },
        "id": "_YdxJpa_xB9c",
        "outputId": "c8e21f0f-34a5-4c0f-f59e-490cd4b57c4d"
      },
      "execution_count": null,
      "outputs": [
        {
          "output_type": "stream",
          "name": "stdout",
          "text": [
            "[[2. 2.]\n",
            " [2. 2.]\n",
            " [2. 2.]\n",
            " [2. 2.]]\n"
          ]
        }
      ]
    },
    {
      "cell_type": "code",
      "source": [
        "A=np.array([[1,1],[0,1]])\n",
        "B=np.array([[2,0],[3,4]])\n",
        "print(A+B)\n",
        "print(A*B)"
      ],
      "metadata": {
        "colab": {
          "base_uri": "https://localhost:8080/"
        },
        "id": "563dfnYTxvs4",
        "outputId": "082ab216-5964-4aac-83a0-23d761371708"
      },
      "execution_count": null,
      "outputs": [
        {
          "output_type": "stream",
          "name": "stdout",
          "text": [
            "[[3 1]\n",
            " [3 5]]\n",
            "[[2 0]\n",
            " [0 4]]\n"
          ]
        }
      ]
    },
    {
      "cell_type": "code",
      "source": [
        "print(A@B)"
      ],
      "metadata": {
        "colab": {
          "base_uri": "https://localhost:8080/"
        },
        "id": "1ys3cT1vyw_o",
        "outputId": "14e9be3d-cd5c-4faf-88fc-e20126694b19"
      },
      "execution_count": null,
      "outputs": [
        {
          "output_type": "stream",
          "name": "stdout",
          "text": [
            "[[5 4]\n",
            " [3 4]]\n"
          ]
        }
      ]
    },
    {
      "cell_type": "markdown",
      "source": [
        "b=np.array[25.89,361.81] #find square roots and iterate through result values output:5 square is 25"
      ],
      "metadata": {
        "id": "58NTfGSfzmxs"
      }
    },
    {
      "cell_type": "code",
      "source": [
        "b=np.array([25,289,361,81])\n",
        "for i in b:\n",
        "  print(np.sqrt(i),\"square is \",i)"
      ],
      "metadata": {
        "colab": {
          "base_uri": "https://localhost:8080/"
        },
        "id": "WcOxTr-azSvC",
        "outputId": "cc914073-5a1e-4334-f14c-e3f93e3e74f8"
      },
      "execution_count": null,
      "outputs": [
        {
          "output_type": "stream",
          "name": "stdout",
          "text": [
            "5.0 square is  25\n",
            "17.0 square is  289\n",
            "19.0 square is  361\n",
            "9.0 square is  81\n"
          ]
        }
      ]
    },
    {
      "cell_type": "markdown",
      "source": [
        "array joins"
      ],
      "metadata": {
        "id": "5xBMArxp58WQ"
      }
    },
    {
      "cell_type": "code",
      "source": [
        "a=np.array([34,35,36,37,38,39])\n",
        "a.resize(2,3)\n",
        "b=np.array([4,5,6,7,8,9])\n",
        "b.resize(2,3)\n",
        "print(np.vstack((a,b)))\n",
        "print(\"\\n\")\n",
        "print(np.hstack((a,b)))"
      ],
      "metadata": {
        "colab": {
          "base_uri": "https://localhost:8080/"
        },
        "id": "u6S9CJ0Q563J",
        "outputId": "043f41c9-ea6b-473c-d805-2a4ed6a94afa"
      },
      "execution_count": null,
      "outputs": [
        {
          "output_type": "stream",
          "name": "stdout",
          "text": [
            "[[34 35 36]\n",
            " [37 38 39]\n",
            " [ 4  5  6]\n",
            " [ 7  8  9]]\n",
            "\n",
            "\n",
            "[[34 35 36  4  5  6]\n",
            " [37 38 39  7  8  9]]\n"
          ]
        }
      ]
    },
    {
      "cell_type": "code",
      "source": [
        "a=np.array([34,35,36,37,38,39])\n",
        "a.resize(2,3)\n",
        "b=np.array([4,5,6,7,8,9])\n",
        "b.resize(2,3)\n",
        "print(a)\n",
        "print(b)"
      ],
      "metadata": {
        "colab": {
          "base_uri": "https://localhost:8080/"
        },
        "id": "ZHh-Each7QMz",
        "outputId": "e72b88eb-cb0b-4c72-e402-6831d5bcc7bb"
      },
      "execution_count": null,
      "outputs": [
        {
          "output_type": "stream",
          "name": "stdout",
          "text": [
            "[[34 35 36]\n",
            " [37 38 39]]\n",
            "[[4 5 6]\n",
            " [7 8 9]]\n"
          ]
        }
      ]
    },
    {
      "cell_type": "code",
      "source": [
        "c=np.arange(30).reshape(2,3,5)\n",
        "print(c)\n",
        "print(\"\\n\")\n",
        "print(np.dstack(c))\n",
        "#number of rows become number of columns\n",
        "#column become rows\n",
        "#group become colums"
      ],
      "metadata": {
        "colab": {
          "base_uri": "https://localhost:8080/"
        },
        "id": "NXtcl3QM83D-",
        "outputId": "93781dcf-4ae6-4382-ba89-1826c59596b7"
      },
      "execution_count": null,
      "outputs": [
        {
          "output_type": "stream",
          "name": "stdout",
          "text": [
            "[[[ 0  1  2  3  4]\n",
            "  [ 5  6  7  8  9]\n",
            "  [10 11 12 13 14]]\n",
            "\n",
            " [[15 16 17 18 19]\n",
            "  [20 21 22 23 24]\n",
            "  [25 26 27 28 29]]]\n",
            "\n",
            "\n",
            "[[[ 0 15]\n",
            "  [ 1 16]\n",
            "  [ 2 17]\n",
            "  [ 3 18]\n",
            "  [ 4 19]]\n",
            "\n",
            " [[ 5 20]\n",
            "  [ 6 21]\n",
            "  [ 7 22]\n",
            "  [ 8 23]\n",
            "  [ 9 24]]\n",
            "\n",
            " [[10 25]\n",
            "  [11 26]\n",
            "  [12 27]\n",
            "  [13 28]\n",
            "  [14 29]]]\n"
          ]
        }
      ]
    }
  ]
}